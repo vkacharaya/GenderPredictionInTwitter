{
  "cells": [
    {
      "metadata": {
        "_uuid": "85f89f11422c69ef5189ab63bede0be4eda9dfde"
      },
      "cell_type": "markdown",
      "source": "# **GENDER PREDICTION IN TWITTER**"
    },
    {
      "metadata": {
        "_uuid": "70501419ed93e6eb7e793e976c0783ab96767d81",
        "trusted": true
      },
      "cell_type": "code",
      "source": "# -*- coding: utf-8 -*-\n\"\"\"\nCreated on Sun Nov 25 14:25:15 2018\n\n@author: vkach\n\"\"\"\nimport pandas as pd\nimport numpy\nimport re\nimport string\nimport ast\nimport nltk\nfrom nltk.corpus import stopwords\nfrom nltk.tokenize import word_tokenize\nfrom sklearn.feature_extraction.text import TfidfVectorizer, CountVectorizer, HashingVectorizer\nfrom sklearn.model_selection import KFold\nfrom sklearn.naive_bayes import MultinomialNB, BernoulliNB, GaussianNB\nfrom sklearn.svm import SVC\nfrom sklearn.ensemble import RandomForestClassifier, AdaBoostClassifier\nfrom sklearn.linear_model import LogisticRegression, LassoCV\nfrom sklearn.metrics import confusion_matrix, accuracy_score, precision_score, classification_report\nfrom sklearn.pipeline import Pipeline\nfrom sklearn.model_selection import KFold, train_test_split, cross_val_score\nfrom sklearn.feature_selection import SelectKBest, chi2, RFE, f_classif\nfrom sklearn.neighbors import KNeighborsClassifier\nfrom sklearn.pipeline import make_pipeline, Pipeline\nfrom sklearn.model_selection import GridSearchCV\nfrom sklearn.tree import DecisionTreeClassifier\nfrom sklearn.svm import SVC, LinearSVC, NuSVC\nfrom sklearn import preprocessing\nfrom sklearn.preprocessing import StandardScaler\nfrom dateutil import parser\nfrom pandas import DataFrame , read_csv\nimport matplotlib\nimport matplotlib.pyplot as plt\nimport datetime\nimport os\nimport seaborn as sns",
      "execution_count": 1,
      "outputs": [
        {
          "output_type": "stream",
          "text": "/opt/conda/lib/python3.6/site-packages/sklearn/ensemble/weight_boosting.py:29: DeprecationWarning: numpy.core.umath_tests is an internal NumPy module and should not be imported. It will be removed in a future NumPy release.\n  from numpy.core.umath_tests import inner1d\n",
          "name": "stderr"
        }
      ]
    },
    {
      "metadata": {
        "_uuid": "17a2d4601ef3f79d6d7e946102565716308d7169"
      },
      "cell_type": "markdown",
      "source": "> **FILE READ**"
    },
    {
      "metadata": {
        "_uuid": "4c466668b8839d96e9acb9ecd02218ccf68089b1",
        "trusted": true
      },
      "cell_type": "code",
      "source": "'''File read'''\ndata_set = pd.read_csv(\"../input/gender-classifier-DFE-791531.csv\", encoding = \"latin-1\" )\ntest_file_ds = None #pd.read_csv(\"../input/gender-classifier-DFE-791531.csv\", encoding = \"latin-1\" ) # Please give in the same format as above line\nis_test = False\nlemma = nltk.WordNetLemmatizer()  ",
      "execution_count": 56,
      "outputs": []
    },
    {
      "metadata": {
        "_uuid": "e49b43788d0d1a144301b71b0bf7bba30879d585"
      },
      "cell_type": "markdown",
      "source": "# Data Preprocessing"
    },
    {
      "metadata": {
        "_uuid": "f6360cd44af606cdfccb83a6c6649fb7c48098e6",
        "trusted": true
      },
      "cell_type": "code",
      "source": "'''Data Preprocessing'''\n#Gender confidence level taken as 1\ncleaned_data_set = data_set[data_set[\"gender:confidence\"] == 1]\n\n#Remove gender unknown\ndf1 = cleaned_data_set[\"gender\"] != \"unknown\"\ncleaned_data_set = cleaned_data_set[df1]\n\n#Dropping columns\ncleaned_data_set = cleaned_data_set.drop(columns = [\"_unit_id\", \"_golden\", \"_unit_state\", \"_trusted_judgments\", \n                                                    \"gender_gold\", \"profile_yn_gold\", \"tweet_id\"])\n\n#Drops duplicate account\ncleaned_data_set = cleaned_data_set.drop_duplicates(\"name\")",
      "execution_count": 57,
      "outputs": []
    },
    {
      "metadata": {
        "trusted": true,
        "_uuid": "8d990d25f9fe6b7afef3796aa7cece61ed3f9c1e"
      },
      "cell_type": "code",
      "source": "cleaned_test_file_ds = None\nif(is_test == True):\n    '''Data Preprocessing'''\n    #Gender confidence level taken as 1\n    cleaned_test_file_ds = test_file_ds[test_file_ds[\"gender:confidence\"] == 1]\n\n    #Remove gender unknown\n    df1 = cleaned_test_file_ds[\"gender\"] != \"unknown\"\n    cleaned_test_file_ds = cleaned_test_file_ds[df1]\n\n    #Dropping columns\n    cleaned_test_file_ds = cleaned_test_file_ds.drop(columns = [\"_unit_id\", \"_golden\", \"_unit_state\", \"_trusted_judgments\", \n                                                        \"gender_gold\", \"profile_yn_gold\", \"tweet_id\"])\n\n    #Drops duplicate account\n    cleaned_test_file_ds = cleaned_test_file_ds.drop_duplicates(\"name\")",
      "execution_count": 58,
      "outputs": []
    },
    {
      "metadata": {
        "_uuid": "2aeabdb94da1f27714b660791633393191f607fe"
      },
      "cell_type": "markdown",
      "source": "> Class created for tweet preprocessing"
    },
    {
      "metadata": {
        "_uuid": "1390456126ea05ceaa2f392d5e44b02703e018f3",
        "trusted": true
      },
      "cell_type": "code",
      "source": "class TweetCleaner:\n    #1 - punctautaion\n    def __init__(self, tweets, key):\n        self.stop_words = set(stopwords.words('english'))\n        self.punc_table = str.maketrans(\"\", \"\", string.punctuation) # to remove punctuation from each word in tokenize\n        self.keys = key\n        self.test_features = self.clean_tweets(tweets)\n    def remove_non_ascii_chars(self, text):\n        return ''.join([w if ord(w) < 128 and not w.isdigit() else ' ' for w in text])\n    def remove_hyperlinks(self,text):\n        return ' '.join([w for w in text.split(' ')  if not 'http' in w])\n    def get_cleaned_text(self, text):\n        cleaned_text = text.replace('\\\"','').replace('\\'','').replace('-',' ')\n        cleaned_text =  self.remove_non_ascii_chars(cleaned_text)\n        if re.match(r'RT @[_A-Za-z]+:',cleaned_text):\n            cleaned_text = cleaned_text[cleaned_text.index(':')+2:]\n        if(3 in self.keys):\n            cleaned_text = re.sub(r'@[_A-Za-z]+', \"\", cleaned_text)\n        cleaned_text = self.remove_hyperlinks(cleaned_text)\n        cleaned_text = cleaned_text.replace('#','HASHTAGSYMBOL').replace(r'@[_A-Za-z]+:',' ') # to avoid being removed while removing punctuations\n        tokens = None\n        if(1 in self.keys):\n            tokens = [w.translate(self.punc_table) for w in word_tokenize(cleaned_text)] # remove punctuations and tokenize\n        else:\n            tokens = [w for w in word_tokenize(cleaned_text)] # remove punctuations and tokenize\n        #No stemming - decreases accuracy\n        if(2 in self.keys):\n            tokens = [lemma.lemmatize(w) for w in tokens if not w.lower() in self.stop_words and len(w)>1] # remove stopwords and single length words\n        else:\n            tokens = [lemma.lemmatize(w) for w in tokens if len(w)>1] # remove stopwords and single length words\n        cleaned_text = ' '.join(tokens)\n        cleaned_text = cleaned_text.replace('HASHTAGSYMBOL','#').replace('ATSYMBOL','@')\n        cleaned_text = cleaned_text\n        return cleaned_text\n    def clean_tweets(self, tweets):   \n        test_tweet_list = []\n        for tweet in tweets:\n            test_tweet_list.append(self.get_cleaned_text(tweet))\n        return test_tweet_list",
      "execution_count": 59,
      "outputs": []
    },
    {
      "metadata": {
        "_uuid": "38d4f3eecbcce636d621f873e3a0e3a371d3f307"
      },
      "cell_type": "markdown",
      "source": "> Bar plot - Count of colors for each gender"
    },
    {
      "metadata": {
        "_uuid": "96382584dceb2a4ff76ca194896a569764974fd9",
        "trusted": true
      },
      "cell_type": "code",
      "source": "df1 = cleaned_data_set[\"gender\"] == \"female\" # This should be changed for each gender\ndf2 = cleaned_data_set[\"sidebar_color\"] != \"0\"\ncity_count = cleaned_data_set[df1 & df2]\ncity_count  = city_count['sidebar_color'].value_counts()\ncity_count = city_count[:10,]\nplt.figure(figsize=(10,5))\nsns.barplot(city_count.index, city_count.values, alpha=0.8)\nplt.title('Side bar color - BRAND')\nplt.ylabel('Number of Occurrences', fontsize=12)\nplt.xlabel('color', fontsize=12)\nplt.show()",
      "execution_count": 60,
      "outputs": [
        {
          "output_type": "display_data",
          "data": {
            "text/plain": "<Figure size 720x360 with 1 Axes>",
            "image/png": "[encoded data removed]"
          },
          "metadata": {
            "needs_background": "light"
          }
        }
      ]
    },
    {
      "metadata": {
        "_uuid": "cdd0978f51240239eb640e6e26a6083680f3fc5e"
      },
      "cell_type": "markdown",
      "source": "> Gender count"
    },
    {
      "metadata": {
        "_uuid": "e835283c6bd349483c94c6e133d4df211ba3641b",
        "trusted": true
      },
      "cell_type": "code",
      "source": "cleaned_data_set[\"gender\"].value_counts()",
      "execution_count": 61,
      "outputs": [
        {
          "output_type": "execute_result",
          "execution_count": 61,
          "data": {
            "text/plain": "female    5159\nmale      4518\nbrand     3444\nName: gender, dtype: int64"
          },
          "metadata": {}
        }
      ]
    },
    {
      "metadata": {
        "_uuid": "fe0b5115e6406bf76e8bde0de69e5dd47925613d"
      },
      "cell_type": "markdown",
      "source": "> **Color section**"
    },
    {
      "metadata": {
        "_uuid": "556368e55a89c2482003a627f16cc0a4ac18aeac",
        "trusted": true
      },
      "cell_type": "code",
      "source": "#Function to convert color hex codes to RGB\ndef hexa_to_rgb(color, default):\n    if color == '0':\n        color =  default\n        r=int(color[0:2],16)\n        g=int(color[2:4],16)\n        b=int(color[4:6],16)\n        return r,g,b\n    if len(color)<5:\n        color = default\n        r=int(color[0:2],16)\n        g=int(color[2:4],16)\n        b=int(color[4:6],16)\n        return r,g,b\n    try:\n        r=int(color[0:2],16)\n        g=int(color[2:4],16)\n        b=int(color[4:6],16)\n    except (RuntimeError, TypeError, NameError, ValueError):\n        color = default\n        r=int(color[0:2],16)\n        g=int(color[2:4],16)\n        b=int(color[4:6],16)\n        return r,g,b\n    else:\n        return r,g,b",
      "execution_count": 62,
      "outputs": []
    },
    {
      "metadata": {
        "trusted": true,
        "_uuid": "cef6ce4bcf5a57a3ed1ce7c45bf9ecc2d8adc7ec"
      },
      "cell_type": "code",
      "source": "if(is_test):\n    cleaned_test_file_ds[\"r_link\"] = cleaned_test_file_ds[\"link_color\"].apply(lambda x: hexa_to_rgb(str(x), \"0084B4\")[0])\n    cleaned_test_file_ds[\"g_link\"] = cleaned_test_file_ds[\"link_color\"].apply(lambda x: hexa_to_rgb(str(x), \"0084B4\")[1])\n    cleaned_test_file_ds[\"b_link\"] = cleaned_test_file_ds[\"link_color\"].apply(lambda x: hexa_to_rgb(str(x), \"0084B4\")[2])\n    cleaned_test_file_ds[\"rs_side\"] = cleaned_test_file_ds[\"sidebar_color\"].apply(lambda x: hexa_to_rgb(str(x), \"C0DEED\")[0])\n    cleaned_test_file_ds[\"gs_side\"] = cleaned_test_file_ds[\"sidebar_color\"].apply(lambda x: hexa_to_rgb(str(x), \"C0DEED\")[1])\n    cleaned_test_file_ds[\"bs_side\"] = cleaned_test_file_ds[\"sidebar_color\"].apply(lambda x: hexa_to_rgb(str(x), \"C0DEED\")[2])",
      "execution_count": 63,
      "outputs": []
    },
    {
      "metadata": {
        "_uuid": "4c94ea2b6113daa0baf79cbf9aeed529a0759828",
        "trusted": true
      },
      "cell_type": "code",
      "source": "cleaned_data_set[\"r_link\"] = cleaned_data_set[\"link_color\"].apply(lambda x: hexa_to_rgb(str(x), \"0084B4\")[0])\ncleaned_data_set[\"g_link\"] = cleaned_data_set[\"link_color\"].apply(lambda x: hexa_to_rgb(str(x), \"0084B4\")[1])\ncleaned_data_set[\"b_link\"] = cleaned_data_set[\"link_color\"].apply(lambda x: hexa_to_rgb(str(x), \"0084B4\")[2])\ncleaned_data_set[\"rs_side\"] = cleaned_data_set[\"sidebar_color\"].apply(lambda x: hexa_to_rgb(str(x), \"C0DEED\")[0])\ncleaned_data_set[\"gs_side\"] = cleaned_data_set[\"sidebar_color\"].apply(lambda x: hexa_to_rgb(str(x), \"C0DEED\")[1])\ncleaned_data_set[\"bs_side\"] = cleaned_data_set[\"sidebar_color\"].apply(lambda x: hexa_to_rgb(str(x), \"C0DEED\")[2])",
      "execution_count": 64,
      "outputs": []
    },
    {
      "metadata": {
        "_uuid": "f82fb069f5f0092788f60adf98844bf3e76ddd18",
        "trusted": true
      },
      "cell_type": "code",
      "source": "X_train, X_test, y_train, y_test =  train_test_split(cleaned_data_set[['r_link','g_link','b_link','rs_side','gs_side','bs_side']], \n                 cleaned_data_set['gender'], test_size= 0.20, random_state = 2)",
      "execution_count": 65,
      "outputs": []
    },
    {
      "metadata": {
        "_uuid": "9ba32de43803dacdd6ce1ddc0a1e91e0e2b1042c"
      },
      "cell_type": "markdown",
      "source": "> Cross Validation for DecisionTree, RandomForest, Linear SVC  [\""
    },
    {
      "metadata": {
        "_uuid": "b4979683a5248b9da0cb18891d40363a24887e04",
        "trusted": true
      },
      "cell_type": "code",
      "source": "le = preprocessing.LabelEncoder()\nle.fit(cleaned_data_set['gender'])\ngender_encoder = le.transform(cleaned_data_set['gender']) ",
      "execution_count": 66,
      "outputs": []
    },
    {
      "metadata": {
        "_uuid": "3cf3fce30c4210b48859f94524ee638557469d54",
        "trusted": true
      },
      "cell_type": "code",
      "source": "best_accuracy = None\nbest_estimator = None",
      "execution_count": 67,
      "outputs": []
    },
    {
      "metadata": {
        "_uuid": "c28c152d35da25d2175c0f345ba0ae01b6db73f8",
        "trusted": true
      },
      "cell_type": "code",
      "source": "if(not is_test):\n    decision_tree_classifier = DecisionTreeClassifier()\n    parameter_grid = {'max_depth': [1, 2, 3, 4, 5, 6, 7, 8, 9],\n                      'max_features': [1, 2, 3, 4, 5],\n                      'random_state': [2]\n                      }\n    grid_search = GridSearchCV(decision_tree_classifier, param_grid = parameter_grid, cv = 5)\n    grid_search.fit(cleaned_data_set[['r_link','g_link','b_link','rs_side','gs_side','bs_side']], cleaned_data_set['gender'])\n    print(\"Best Decision Tree Classifier Score: {}\".format(grid_search.best_score_))\n    print(\"Best Decision Tree Classifier params: {}\".format(grid_search.best_params_))",
      "execution_count": 68,
      "outputs": [
        {
          "output_type": "stream",
          "text": "Best Decision Tree Classifier Score: 0.4413535553692554\nBest Decision Tree Classifier params: {'max_depth': 7, 'max_features': 4, 'random_state': 2}\n",
          "name": "stdout"
        }
      ]
    },
    {
      "metadata": {
        "_uuid": "05468d7ec4d314c05927d1552a819d9cda913e44",
        "trusted": true
      },
      "cell_type": "code",
      "source": "random_tree_classifier = RandomForestClassifier()\nparameter_grid = {'n_estimators': list(range(1,20)),\n                  'random_state': [2],\n                  'max_depth' : [1,2,3,4,5,6,7,8,9]}\ngrid_search = GridSearchCV(random_tree_classifier, param_grid = parameter_grid, cv = 5)\ngrid_search.fit(cleaned_data_set[['r_link','g_link','b_link','rs_side','gs_side','bs_side']], gender_encoder)\nprint(\"Best Random Forest Classifier Score: {}\".format(grid_search.best_score_))\nprint(\"Best Random Forest Classifier params: {}\".format(grid_search.best_params_))\nbest_accuracy = grid_search.best_score_\nbest_estimator= grid_search.best_estimator_",
      "execution_count": 69,
      "outputs": [
        {
          "output_type": "stream",
          "text": "Best Random Forest Classifier Score: 0.446764728298148\nBest Random Forest Classifier params: {'max_depth': 8, 'n_estimators': 19, 'random_state': 2}\n",
          "name": "stdout"
        }
      ]
    },
    {
      "metadata": {
        "_uuid": "a2d0eb666e8999515e7c02676dda69bf6843b9ae",
        "trusted": true
      },
      "cell_type": "code",
      "source": "if(not is_test):\n    knn_neighbors = KNeighborsClassifier()\n    parameter_grid = {'n_neighbors': list(range(1,40))}\n    grid_search = GridSearchCV(knn_neighbors, param_grid = parameter_grid, cv = 5)\n    grid_search.fit(cleaned_data_set[['r_link','g_link','b_link','rs_side','gs_side','bs_side']], gender_encoder)\n    print(\"Best KNN Score: {}\".format(grid_search.best_score_))\n    print(\"Best KNN params: {}\".format(grid_search.best_params_))",
      "execution_count": 70,
      "outputs": [
        {
          "output_type": "stream",
          "text": "Best KNN Score: 0.4313695602469324\nBest KNN params: {'n_neighbors': 33}\n",
          "name": "stdout"
        }
      ]
    },
    {
      "metadata": {
        "trusted": true,
        "_uuid": "620ad336e673c09bf007cb5084e0460742d0e292"
      },
      "cell_type": "code",
      "source": "if(not is_test):\n    gb_neighbors = GaussianNB()\n    parameter_grid = {}\n    grid_search = GridSearchCV(gb_neighbors, param_grid = parameter_grid, cv = 5)\n    grid_search.fit(cleaned_data_set[['r_link','g_link','b_link','rs_side','gs_side','bs_side']], gender_encoder)\n    print(\"Best Gaussian NB Score: {}\".format(grid_search.best_score_))\n    print(\"Best Gaussian NB params: {}\".format(grid_search.best_params_))",
      "execution_count": 71,
      "outputs": [
        {
          "output_type": "stream",
          "text": "Best Gaussian NB Score: 0.3833549272159134\nBest Gaussian NB params: {}\n",
          "name": "stdout"
        }
      ]
    },
    {
      "metadata": {
        "_uuid": "ceb390a8c5936c27558e7fd4531ba196f34e4f61",
        "trusted": true
      },
      "cell_type": "code",
      "source": "def train_model(classifier, feature_vector_train, label, feature_vector_valid,valid_y):\n    classifier.fit(feature_vector_train, label)\n    predictions = classifier.predict(feature_vector_valid)\n    return accuracy_score(predictions, valid_y), classifier.predict_proba(feature_vector_valid), precision_score(valid_y, classifier.predict(feature_vector_valid),average=None), classifier",
      "execution_count": 72,
      "outputs": []
    },
    {
      "metadata": {
        "_uuid": "60bcf51cff0aa8cd4138abc76a0ca13ddab9d679",
        "trusted": true
      },
      "cell_type": "code",
      "source": "color_accuracy, color_predictions, color_prec, color_classifier = train_model(best_estimator, X_train, y_train, X_test, y_test)\nprint(color_accuracy)",
      "execution_count": 73,
      "outputs": [
        {
          "output_type": "stream",
          "text": "0.44571428571428573\n",
          "name": "stdout"
        }
      ]
    },
    {
      "metadata": {
        "_uuid": "b2f157282ffecd3fecf1d44f16d81135a387fd99",
        "trusted": true
      },
      "cell_type": "code",
      "source": "def getPrediction(Probabs):\n    return [ numpy.argmax(x) for x in Probabs]",
      "execution_count": 74,
      "outputs": []
    },
    {
      "metadata": {
        "_uuid": "54a24088887aed4ea0bfc222cd443606ae05af25",
        "trusted": true
      },
      "cell_type": "code",
      "source": "def data_set_splitter(gender):\n    cleaned_data_set_1 = cleaned_data_set\n    if(gender):\n        cleaned_data_set_1 = cleaned_data_set[cleaned_data_set[\"gender\"] == gender]\n    return cleaned_data_set_1\n\ndef cleaned_description(data_set, keys):\n    desc_list = [str(desc) for desc in data_set[\"description\"]]\n    cleaned_desc = TweetCleaner(desc_list, keys).test_features\n    return cleaned_desc\n\ndef cleaned_tweet3(data_set, keys):\n    cleaned_tweet = TweetCleaner(data_set[\"name\"], keys).test_features\n    return cleaned_tweet\n\ndef cleaned_tweet2(data_set, keys):\n    cleaned_tweet = TweetCleaner(data_set[\"text\"], keys).test_features\n    return cleaned_tweet\n\ndef cleaned_tweet(data_set, keys):\n    desc_list = [str(desc) for desc in data_set[\"description\"]]\n    tweets = [str(desc) for desc in data_set[\"text\"]]\n    #desc_t = TweetCleaner(desc_list).test_features\n    cleaned_tweet_with_user = []\n    for i in range(len(desc_list)):\n            cleaned_tweet_with_user.append(tweets[i] + \" \" + desc_list[i])\n    cleaned_tweet = TweetCleaner(cleaned_tweet_with_user, keys).test_features\n    return cleaned_tweet",
      "execution_count": 75,
      "outputs": []
    },
    {
      "metadata": {
        "_uuid": "0d6cf73bbcf67ba0475cffd2ffd734086d1cdaa4",
        "trusted": true
      },
      "cell_type": "code",
      "source": "def user_name_range(text_val):\n    text_val_range = []\n    for rang in range(3,5):\n        text_val_range.append(\" \".join([\"\".join([str(j) for j in i]) for i in list(nltk.ngrams(text_val, rang))]))\n    return \" \".join(text_val_range)\ncleaned_tweet_with_user = []\n#for i in range(len(cleaned_data_set)):\n#    cleaned_tweet_with_user.append(cleaned_tweet_with_user[i] + \" \" + user_name_range(cleaned_data_set[\"name\"][cleaned_data_set[\"name\"].index[i]]))",
      "execution_count": 76,
      "outputs": []
    },
    {
      "metadata": {
        "_uuid": "9e9e54bf181d216a954c169832460256326307ac",
        "trusted": true
      },
      "cell_type": "code",
      "source": "#est = RandomForestClassifier(n_estimators = 18, random_state = 42)\nY_test = None\ndef classfier_runner(c_name, train_features, output):\n    X_train, X_test, y_train, y_test = train_test_split(train_features, output, test_size = 0.20,  random_state=2)\n    global Y_test\n    Y_test = y_test\n    return train_model(c_name, X_train, y_train, X_test,y_test)",
      "execution_count": 77,
      "outputs": []
    },
    {
      "metadata": {
        "trusted": true,
        "_uuid": "32772a6b57730add1be1cbeade0b0b23d7f52951"
      },
      "cell_type": "code",
      "source": "func1 = cleaned_tweet #for punctuation\nfunc1_keys = [1]\n\nfunc2_keys = [1,2,3]\n\nfunc3 = cleaned_tweet3\nfunc3_keys = [0]",
      "execution_count": 78,
      "outputs": []
    },
    {
      "metadata": {
        "_uuid": "39faf6d051b8a33a47d324372529390bac1c6f83",
        "trusted": true
      },
      "cell_type": "code",
      "source": "cleaned_data_set1  = data_set_splitter(None)\ncleaned_tweet_with_user_n = cleaned_tweet(cleaned_data_set1, func1_keys)\ncleaned_desc_n = cleaned_description(cleaned_data_set1, func2_keys)\ncleaned_username_n = cleaned_data_set1[\"name\"]",
      "execution_count": 79,
      "outputs": []
    },
    {
      "metadata": {
        "trusted": true,
        "_uuid": "41d3eeebe284103a85ba86e85792472a5aeb60a5"
      },
      "cell_type": "code",
      "source": "def train_model2(classifier, feature_vector_valid,valid_y):\n    predictions = classifier.predict(feature_vector_valid)\n    return accuracy_score(predictions, valid_y), classifier.predict_proba(feature_vector_valid), precision_score(valid_y, classifier.predict(feature_vector_valid),average=None), classifier",
      "execution_count": 80,
      "outputs": []
    },
    {
      "metadata": {
        "_uuid": "86a904ec95502311d33e3cd256b3a50726caeed1",
        "trusted": true
      },
      "cell_type": "code",
      "source": "\ncleaned_data_set1  = data_set_splitter(None)\ntest = list(cleaned_data_set1.columns)\ntest.remove(\"gender\")\nX_train, X_test, y_train, y_test =  train_test_split(cleaned_data_set1[test], \n                 cleaned_data_set['gender'], test_size= 0.20, random_state = 2)\n\ncleaned_data_set1  = X_train\ncleaned_tweet_with_user_n = func1(cleaned_data_set1, func1_keys)\ncleaned_desc_n = cleaned_description(cleaned_data_set1, func2_keys)\ncleaned_username_n = func3(cleaned_data_set1, func3_keys)\n\ncount_word_tweet_n = CountVectorizer(analyzer = \"word\", ngram_range = (1,1))\ntrain_features_tweet_n = count_word_tweet_n.fit_transform(cleaned_tweet_with_user_n)\n\ncount_word_desc_n = CountVectorizer(analyzer = \"word\", ngram_range = (1,3))\ntrain_features_desc_n = count_word_desc_n.fit_transform(cleaned_desc_n)\n\ncount_word_username_n = CountVectorizer(analyzer = \"char_wb\", ngram_range = (3,5))\ntrain_features_user_n = count_word_username_n.fit_transform(cleaned_username_n)\n\nclassifier1 = MultinomialNB(alpha =1.015)\nclassifier2 = MultinomialNB(alpha =1.015)\nclassifier3 = MultinomialNB(alpha =1.015)\nclassifier1.fit(train_features_tweet_n, y_train)\nclassifier2.fit(train_features_desc_n, y_train)\nclassifier3.fit(train_features_user_n, y_train)\n\n\ncleaned_data_set1  = X_test\ncleaned_tweet_with_user_n = func1(cleaned_data_set1, func1_keys)\ncleaned_desc_n = cleaned_description(cleaned_data_set1, func2_keys)\ncleaned_username_n = func3(cleaned_data_set1, func3_keys)\n\ntrain_features_tweet_n_test = count_word_tweet_n.transform(cleaned_tweet_with_user_n)\ntrain_features_desc_n_test = count_word_desc_n.transform(cleaned_desc_n)\ntrain_features_user_n_test = count_word_username_n.transform(cleaned_username_n)\n",
      "execution_count": 81,
      "outputs": []
    },
    {
      "metadata": {
        "_uuid": "acfc9b22b724fdd0f934e9b73bab3ce99bb2b98b",
        "trusted": true
      },
      "cell_type": "code",
      "source": "\ntweet_accuracy, tweet_predictions, tweet_prec, tweet_classifier = train_model2(classifier1, train_features_tweet_n_test, y_test)\nuser_accuracy, user_predictions, user_prec, user_classifier = train_model2(classifier3, train_features_user_n_test, y_test)",
      "execution_count": 82,
      "outputs": []
    },
    {
      "metadata": {
        "trusted": true,
        "_uuid": "5d30f99cc4b2e8e866f116f92a739a1c6c02ca6d"
      },
      "cell_type": "code",
      "source": "print(tweet_accuracy)\nprint(user_accuracy)",
      "execution_count": 83,
      "outputs": [
        {
          "output_type": "stream",
          "text": "0.6582857142857143\n0.6491428571428571\n",
          "name": "stdout"
        }
      ]
    },
    {
      "metadata": {
        "_uuid": "a3f5db6f5b8deb4bc25ab12cae0540970c73aaa4",
        "trusted": true
      },
      "cell_type": "code",
      "source": "total_Predictions = (tweet_prec*tweet_predictions + \n                     user_prec*user_accuracy)\ny_pred_class = getPrediction(total_Predictions)\n\nle = preprocessing.LabelEncoder()\nle.fit(y_test)\ntest = le.transform(y_test) \n\nprint(\"Mean accuracy: \" , accuracy_score(test, y_pred_class))",
      "execution_count": 84,
      "outputs": [
        {
          "output_type": "stream",
          "text": "Mean accuracy:  0.659047619047619\n",
          "name": "stdout"
        }
      ]
    },
    {
      "metadata": {
        "trusted": true,
        "_uuid": "9c244a93070ad06f0f27072d16a861b8ea0f2f40"
      },
      "cell_type": "code",
      "source": "func1 = cleaned_tweet #for punctuation\nfunc1_keys = [1]\n\nfunc2_keys = [1,2,3]\n\nfunc3 = cleaned_tweet3\nfunc3_keys = [0]\n\ncleaned_data_set1  = data_set_splitter(None)\ncleaned_tweet_with_user_n = func1(cleaned_data_set1, func1_keys)\ncleaned_desc_n = cleaned_description(cleaned_data_set1, func2_keys)\ncleaned_username_n = func3(cleaned_data_set1, func3_keys)",
      "execution_count": 85,
      "outputs": []
    },
    {
      "metadata": {
        "_uuid": "d01fc186e32e1c4dec7df5cdefc4d3e7fccf7c01",
        "trusted": true
      },
      "cell_type": "code",
      "source": "def feature_selection_BOW(classifier, function_invoke, train_data, user = False, func_keys = func1_keys, vectorizer = CountVectorizer, chi = None):\n    est = classifier #MultinomialNB()\n    analyzer = \"word\"\n    n_gram_range = (1, 2)\n    if user:\n        analyzer = \"char_wb\"\n        n_gram_range = (3, 5)\n    cleaned_data_set1_m  = data_set_splitter(\"male\")\n    cleaned_tweet_with_user_m = None\n    if not user:\n        cleaned_tweet_with_user_m = function_invoke(cleaned_data_set1_m, func_keys)\n    else:\n        cleaned_tweet_with_user_m = cleaned_data_set1_m [\"name\"]\n    cleaned_data_set1_f  = data_set_splitter(\"female\")\n    if not user:\n        cleaned_tweet_with_user_f = function_invoke(cleaned_data_set1_f, func_keys)\n    else:\n        cleaned_tweet_with_user_f = cleaned_data_set1_f [\"name\"]\n    cleaned_data_set1_b  = data_set_splitter(\"brand\")\n    if not user:\n        cleaned_tweet_with_user_b = function_invoke(cleaned_data_set1_b, func_keys)\n    else:\n        cleaned_tweet_with_user_b = cleaned_data_set1_b [\"name\"]\n    range_accur = []\n    accuracy =[]\n    for i in range(1000, 60000, 5000):\n        count_word_tweet_m = vectorizer(analyzer = analyzer, ngram_range = n_gram_range,min_df =2, max_features = i)\n        train_features_tweet_m = count_word_tweet_m.fit_transform(cleaned_tweet_with_user_m)\n        male_top_words = count_word_tweet_m.get_feature_names()\n\n        count_word_tweet_f = vectorizer(analyzer = analyzer, ngram_range = n_gram_range, min_df =2, max_features = i)\n        train_features_tweet_f = count_word_tweet_f.fit_transform(cleaned_tweet_with_user_f)\n        female_top_words = count_word_tweet_f.get_feature_names()\n        \n        count_word_tweet_b = vectorizer(analyzer = analyzer, ngram_range = n_gram_range, min_df =2, max_features = i)\n        train_features_tweet_b = count_word_tweet_b.fit_transform(cleaned_tweet_with_user_b)\n        brand_top_words = count_word_tweet_b.get_feature_names()\n\n        count_word_tweet_n = vectorizer(analyzer = analyzer, ngram_range = n_gram_range,min_df =2, vocabulary = set(male_top_words + female_top_words + brand_top_words))\n        train_features_tweet_n = count_word_tweet_n.fit_transform(train_data)\n\n        text_accuracy = cross_val_score(est, train_features_tweet_n, cleaned_data_set1[\"gender\"], cv = 5)\n        range_accur.append(i)\n        accuracy.append(text_accuracy.mean())\n    return range_accur, accuracy",
      "execution_count": 86,
      "outputs": []
    },
    {
      "metadata": {
        "_uuid": "19870b6a304f4ffd1850b4bed872e2325988c509",
        "trusted": true
      },
      "cell_type": "code",
      "source": "x_value_t, y_value_t = feature_selection_BOW(MultinomialNB(alpha = 0.001), func1, cleaned_tweet_with_user_n)\n#x_value_d, y_value_d = feature_selection_BOW(MultinomialNB(), cleaned_description, cleaned_desc_n, False, func2_keys)\nx_value_u, y_value_u = feature_selection_BOW(MultinomialNB(alpha = 0.001), func1, cleaned_username_n, True)",
      "execution_count": 87,
      "outputs": []
    },
    {
      "metadata": {
        "_uuid": "b298b000093762e86dc6b28944bd69630d1863ba",
        "trusted": true
      },
      "cell_type": "code",
      "source": "plt.plot(x_value_u, y_value_u, '-.', color=\"blue\", label=\"USERNAME\")\n#plt.plot(x_value_d, y_value_d, '--', color=\"red\", label=\"DESCRIPTION\")\nplt.plot(x_value_t, y_value_t, '-', color=\"green\", label=\"TWEET\")\nplt.legend(loc=\"upper left\")\n\nplt.title(\"CountVectorizer - Top features vs Accuracy\", fontsize = 16, fontweight='bold')\nplt.xlabel(\"Top frequency words\")\nplt.ylabel(\"Accuracy\")\n\nplt.show()",
      "execution_count": 88,
      "outputs": [
        {
          "output_type": "display_data",
          "data": {
            "text/plain": "<Figure size 432x288 with 1 Axes>",
            "image/png": "[encoded data removed]"
          },
          "metadata": {
            "needs_background": "light"
          }
        }
      ]
    },
    {
      "metadata": {
        "_uuid": "6166f21a4eedf360f3de0654f25383e4e901a37d",
        "trusted": true
      },
      "cell_type": "code",
      "source": "print(\"Username: \" + str(x_value_u[numpy.argmax(y_value_u)])  +\" \"\n+ \"Tweet: \" + str(x_value_t[numpy.argmax(y_value_t)]))",
      "execution_count": 89,
      "outputs": [
        {
          "output_type": "stream",
          "text": "Username: 21000 Tweet: 21000\n",
          "name": "stdout"
        }
      ]
    },
    {
      "metadata": {
        "trusted": true,
        "_uuid": "f3dd53793d9e8e8e9cfe3c2bf616e7066882f0a0"
      },
      "cell_type": "code",
      "source": "func1 = cleaned_tweet #for punctuation\nfunc1_keys = [1]\n\nfunc2_keys = [1,2,3]\n\nfunc3 = cleaned_tweet3\nfunc3_keys = [0]\n\ncleaned_data_set1  = data_set_splitter(None)\ntest = list(cleaned_data_set1.columns)\ntest.remove(\"gender\")\nX_train= None\nX_test = None \ny_train= None \ny_test = None\nif(is_test == False):\n    X_train, X_test, y_train, y_test =  train_test_split(cleaned_data_set1[test], \n                 cleaned_data_set['gender'], test_size= 0.20, random_state = 2)\nelse:\n    X_train = cleaned_data_set1[test]\n    y_train = cleaned_data_set['gender']\n    X_test = cleaned_test_file_ds[test]\n    y_test  = cleaned_test_file_ds['gender']",
      "execution_count": 90,
      "outputs": []
    },
    {
      "metadata": {
        "_uuid": "4fc2f09e87b99afbcffdd0dd9b9058d5b742f055",
        "trusted": true
      },
      "cell_type": "code",
      "source": "def feature_selection_BOW_chi(classifier, function_invoke, output, train_data, user = False, keys = func1_keys, vectorizer = CountVectorizer, faetureCnt = 0):\n    est = classifier #MultinomialNB()\n    analyzer = \"word\"\n    n_gram_range = (1, 1)\n    if user:\n        analyzer = \"char_wb\"\n        n_gram_range = (3, 5)\n    range_accur = []\n    accuracy =[]\n    feature_names = []\n    estimator = []\n    \n    \n    X_train, X_test, y_train, y_test =  train_test_split(train_data, \n                 output, test_size= 0.20, random_state = 2)\n    \n    count_word_tweet_n = vectorizer(analyzer = analyzer, ngram_range = n_gram_range,min_df =2)\n    train_features_tweet_n = count_word_tweet_n.fit_transform(X_train)\n    test2 = len(count_word_tweet_n.get_feature_names())\n    if(faetureCnt != 0):\n        test2 = faetureCnt\n\n    for i in range(100, test2, 1000):\n        test2 = SelectKBest(score_func=chi2, k = i)\n        fit2 = test2.fit(train_features_tweet_n, y_train)\n        features = fit2.transform(train_features_tweet_n)\n        \n        cols = test2.get_support(indices=True)\n        feature = numpy.array(count_word_tweet_n.get_feature_names())[cols]\n        feature_names.append(cols)\n        \n        count_word_tweet_q = vectorizer(analyzer = analyzer, ngram_range = n_gram_range, vocabulary = feature)\n        train_features_tweet_q = count_word_tweet_q.fit_transform(X_test)\n        \n        est.fit(features, y_train)\n        testq  = est.predict(train_features_tweet_q)\n        accuracy_score(testq, y_test)\n        range_accur.append(i)\n        accuracy.append(accuracy_score(testq, y_test))\n        estimator.append(est)\n    \n    best_estimator = estimator[numpy.argmax(range_accur)]\n    return range_accur, accuracy, feature_names[numpy.argmax(range_accur)], best_estimator, count_word_tweet_n",
      "execution_count": 91,
      "outputs": []
    },
    {
      "metadata": {
        "trusted": true,
        "_uuid": "bf603effd976581dd8f8f14c6b743a81bfe78189"
      },
      "cell_type": "code",
      "source": "def train_model2(classifier, feature_vector_valid,valid_y):\n    predictions = classifier.predict(feature_vector_valid)\n    return accuracy_score(predictions, valid_y), classifier.predict_proba(feature_vector_valid), precision_score(valid_y, classifier.predict(feature_vector_valid),average=None), classifier",
      "execution_count": 92,
      "outputs": []
    },
    {
      "metadata": {
        "_uuid": "d37095477c1953fbe0dfda4e0963bf65a793de9b",
        "trusted": true
      },
      "cell_type": "code",
      "source": "cleaned_data_set1  = X_train\ncleaned_tweet_with_user_n = cleaned_tweet(cleaned_data_set1, func1_keys)",
      "execution_count": 93,
      "outputs": []
    },
    {
      "metadata": {
        "trusted": true,
        "_uuid": "e58829d292ffd7b4ba3cfc35b572dd59894f5ef2"
      },
      "cell_type": "code",
      "source": "\nx_value_t, y_value_t,feature_names_t, train_features_t, trans_t  = feature_selection_BOW_chi(MultinomialNB(alpha = 1.015), func1, y_train, cleaned_tweet_with_user_n, False, func1_keys, CountVectorizer)\nx_value_u, y_value_u,feature_names_u, train_features_u, trans_u = feature_selection_BOW_chi(MultinomialNB(alpha = 1.015), func1, y_train,cleaned_data_set1[\"name\"], True, func1_keys, CountVectorizer)",
      "execution_count": 94,
      "outputs": []
    },
    {
      "metadata": {
        "trusted": true,
        "_uuid": "c1e8e901018c846596c0547953c55e5af5f61300"
      },
      "cell_type": "code",
      "source": "cleaned_data_set1  = X_test\ncleaned_tweet_with_user_n = cleaned_tweet(cleaned_data_set1, func1_keys)\ncleaned_desc_n = cleaned_description(cleaned_data_set1, func2_keys)\ncleaned_username_n = cleaned_data_set1[\"name\"]\n\ntrain_features_tweet_n = (trans_t.transform(cleaned_tweet_with_user_n)).toarray()[:, feature_names_t]\ntrain_features_user_n = (trans_u.transform(cleaned_username_n)).toarray()[:, feature_names_u]\n\ntweet_accuracy, tweet_predictions, tweet_prec, tweet_classifier = train_model2(train_features_t, train_features_tweet_n, y_test)\nuser_accuracy, user_predictions, user_prec, user_classifier = train_model2(train_features_u, train_features_user_n, y_test)",
      "execution_count": 95,
      "outputs": []
    },
    {
      "metadata": {
        "trusted": true,
        "_uuid": "151c0e7d5036422b06b05594779e2e5f3094c9cb"
      },
      "cell_type": "code",
      "source": "cleaned_data_set1  = data_set_splitter(None)\ntest = list(cleaned_data_set1.columns)\ntest.remove(\"gender\")\nif(is_test == False):\n    X_train, X_test, y_train, y_test =  train_test_split(cleaned_data_set1[test], \n                 cleaned_data_set['gender'], test_size= 0.20, random_state = 2)\nelse:\n    X_train = cleaned_data_set1[test]\n    y_train = cleaned_data_set['gender']\n    X_test = cleaned_test_file_ds[test]\n    y_test  = cleaned_test_file_ds['gender']\n\ncleaned_data_set1 = X_train\ncleaned_data_set1[\"created_date\"] = cleaned_data_set1[\"created\"].apply(lambda x: str(parser.parse(x).year))\n#cleaned_data_set1[\"month\"] = cleaned_data_set1[\"created\"].apply(lambda x: str(parser.parse(x).year))\ncleaned_data_set1[\"month\"] = cleaned_data_set1[\"created\"].apply(lambda x: str(parser.parse(x).month))\nscaled_values = StandardScaler()\ndata = scaled_values.fit_transform(cleaned_data_set1[[\"fav_number\",'retweet_count',\"created_date\",\"month\", 'r_link','g_link','b_link','rs_side','gs_side','bs_side']])\nrandom_tree_classifier = RandomForestClassifier()\nparameter_grid = {'n_estimators': list(range(1,10)),\n                  'random_state': [2],\n                  'max_depth' : [1,2,3,4,5,6,7,8,9,10,11]}\ngrid_search = GridSearchCV(random_tree_classifier, param_grid = parameter_grid, cv = 10)\ntest4 = cleaned_data_set1[[\"fav_number\", 'created_date','month','retweet_count']]\ngrid_search.fit(data, y_train)\nprint(\"Best decision tree Score: {}\".format(grid_search.best_score_))\nprint(\"Best decision tree params: {}\".format(grid_search.best_params_))\n\ncleaned_data_set1 = X_test\nscaled_values = StandardScaler()\ncleaned_data_set1[\"created_date\"] = cleaned_data_set1[\"created\"].apply(lambda x: str(parser.parse(x).year))\ncleaned_data_set1[\"month\"] = cleaned_data_set1[\"created\"].apply(lambda x: str(parser.parse(x).month))\ndata = scaled_values.fit_transform(cleaned_data_set1[[\"fav_number\",'retweet_count',\"created_date\",\"month\", 'r_link','g_link','b_link','rs_side','gs_side','bs_side']])\ntweet2_accuracy, tweet2_predictions, tweet2_prec, tweet2_classifier = train_model2(grid_search.best_estimator_, data, y_test)\n",
      "execution_count": 96,
      "outputs": [
        {
          "output_type": "stream",
          "text": "Best decision tree Score: 0.5665015243902439\nBest decision tree params: {'max_depth': 9, 'n_estimators': 9, 'random_state': 2}\n",
          "name": "stdout"
        }
      ]
    },
    {
      "metadata": {
        "_uuid": "5a468f973c151430d7cfee99825f8a605de48db1",
        "trusted": true
      },
      "cell_type": "code",
      "source": "total_Predictions = (tweet_prec*tweet_predictions + \n                     user_prec*user_predictions + \n                     tweet2_prec*tweet2_predictions)\ny_pred_class = getPrediction(total_Predictions)\n\nle = preprocessing.LabelEncoder()\nle.fit(y_test)\ntest = le.transform(y_test) \n\nprint(\"Classification Report: \")\nprint(classification_report(test, y_pred_class))\nprint(\"Confusion Matrix: First row - Brand, Second - Female, Third - Male\")\nprint(confusion_matrix(test, y_pred_class))\nprint(\"Accuracy: \")\nprint(accuracy_score(test, y_pred_class))",
      "execution_count": 97,
      "outputs": [
        {
          "output_type": "stream",
          "text": "Classification Report: \n             precision    recall  f1-score   support\n\n          0       0.77      0.81      0.79       689\n          1       0.70      0.83      0.76      1019\n          2       0.73      0.54      0.62       917\n\navg / total       0.73      0.73      0.72      2625\n\nConfusion Matrix: First row - Brand, Second - Female, Third - Male\n[[558  62  69]\n [ 55 849 115]\n [111 308 498]]\nAccuracy: \n0.7257142857142858\n",
          "name": "stdout"
        }
      ]
    },
    {
      "metadata": {
        "trusted": true,
        "_uuid": "02d7c507c607b6d7704c6e3e06cfb0af7e6910fb"
      },
      "cell_type": "code",
      "source": "y_pred_class",
      "execution_count": 98,
      "outputs": [
        {
          "output_type": "execute_result",
          "execution_count": 98,
          "data": {
            "text/plain": "[1,\n 2,\n 0,\n 2,\n 1,\n 1,\n 1,\n 0,\n 2,\n 2,\n 2,\n 1,\n 1,\n 0,\n 0,\n 2,\n 1,\n 0,\n 0,\n 2,\n 1,\n 2,\n 1,\n 0,\n 2,\n 0,\n 1,\n 2,\n 0,\n 1,\n 1,\n 1,\n 1,\n 0,\n 1,\n 0,\n 1,\n 2,\n 1,\n 1,\n 1,\n 0,\n 1,\n 1,\n 1,\n 2,\n 1,\n 2,\n 2,\n 1,\n 2,\n 1,\n 1,\n 2,\n 2,\n 1,\n 1,\n 2,\n 1,\n 2,\n 1,\n 1,\n 0,\n 2,\n 1,\n 1,\n 1,\n 1,\n 0,\n 1,\n 2,\n 0,\n 0,\n 1,\n 1,\n 2,\n 1,\n 0,\n 1,\n 1,\n 1,\n 1,\n 2,\n 2,\n 0,\n 2,\n 2,\n 2,\n 1,\n 0,\n 0,\n 1,\n 2,\n 2,\n 2,\n 2,\n 1,\n 1,\n 0,\n 2,\n 2,\n 1,\n 2,\n 0,\n 1,\n 2,\n 1,\n 1,\n 1,\n 1,\n 1,\n 0,\n 1,\n 2,\n 2,\n 1,\n 1,\n 1,\n 0,\n 1,\n 0,\n 2,\n 2,\n 2,\n 2,\n 0,\n 0,\n 1,\n 1,\n 0,\n 0,\n 1,\n 0,\n 1,\n 0,\n 2,\n 2,\n 2,\n 0,\n 1,\n 1,\n 2,\n 1,\n 1,\n 0,\n 1,\n 0,\n 2,\n 2,\n 1,\n 0,\n 0,\n 0,\n 2,\n 1,\n 1,\n 1,\n 1,\n 2,\n 1,\n 1,\n 0,\n 2,\n 1,\n 0,\n 1,\n 0,\n 0,\n 1,\n 2,\n 2,\n 1,\n 0,\n 1,\n 1,\n 1,\n 2,\n 2,\n 0,\n 2,\n 0,\n 2,\n 2,\n 2,\n 1,\n 1,\n 1,\n 2,\n 1,\n 0,\n 0,\n 1,\n 2,\n 1,\n 1,\n 1,\n 2,\n 0,\n 1,\n 1,\n 0,\n 0,\n 0,\n 1,\n 1,\n 0,\n 2,\n 1,\n 2,\n 0,\n 1,\n 1,\n 0,\n 0,\n 2,\n 2,\n 1,\n 1,\n 2,\n 0,\n 0,\n 1,\n 2,\n 1,\n 1,\n 2,\n 1,\n 1,\n 0,\n 1,\n 1,\n 1,\n 1,\n 1,\n 1,\n 0,\n 2,\n 1,\n 0,\n 1,\n 1,\n 1,\n 0,\n 2,\n 2,\n 1,\n 2,\n 0,\n 1,\n 1,\n 0,\n 1,\n 1,\n 1,\n 2,\n 1,\n 1,\n 1,\n 1,\n 0,\n 2,\n 1,\n 2,\n 1,\n 1,\n 1,\n 0,\n 2,\n 2,\n 0,\n 1,\n 0,\n 2,\n 1,\n 1,\n 1,\n 1,\n 1,\n 1,\n 2,\n 1,\n 1,\n 1,\n 0,\n 1,\n 0,\n 2,\n 0,\n 0,\n 0,\n 1,\n 1,\n 1,\n 2,\n 1,\n 2,\n 2,\n 1,\n 1,\n 0,\n 2,\n 1,\n 2,\n 0,\n 1,\n 1,\n 2,\n 0,\n 1,\n 1,\n 1,\n 1,\n 0,\n 2,\n 2,\n 1,\n 1,\n 2,\n 2,\n 1,\n 1,\n 1,\n 2,\n 0,\n 2,\n 0,\n 1,\n 1,\n 1,\n 2,\n 1,\n 0,\n 1,\n 2,\n 0,\n 1,\n 2,\n 0,\n 1,\n 0,\n 1,\n 2,\n 0,\n 1,\n 1,\n 2,\n 2,\n 1,\n 1,\n 1,\n 2,\n 0,\n 1,\n 0,\n 1,\n 2,\n 0,\n 1,\n 2,\n 2,\n 2,\n 1,\n 0,\n 1,\n 1,\n 0,\n 0,\n 0,\n 0,\n 2,\n 1,\n 0,\n 1,\n 0,\n 0,\n 2,\n 2,\n 1,\n 1,\n 2,\n 0,\n 2,\n 1,\n 0,\n 2,\n 1,\n 2,\n 2,\n 0,\n 1,\n 1,\n 2,\n 0,\n 2,\n 1,\n 1,\n 1,\n 1,\n 0,\n 0,\n 1,\n 1,\n 2,\n 1,\n 0,\n 1,\n 1,\n 0,\n 1,\n 0,\n 0,\n 0,\n 1,\n 2,\n 1,\n 2,\n 1,\n 1,\n 1,\n 2,\n 1,\n 0,\n 1,\n 2,\n 0,\n 1,\n 1,\n 1,\n 0,\n 1,\n 2,\n 2,\n 2,\n 2,\n 1,\n 0,\n 2,\n 0,\n 1,\n 2,\n 1,\n 2,\n 0,\n 1,\n 1,\n 1,\n 1,\n 0,\n 1,\n 2,\n 2,\n 1,\n 1,\n 2,\n 2,\n 1,\n 1,\n 1,\n 2,\n 1,\n 1,\n 1,\n 2,\n 1,\n 0,\n 0,\n 2,\n 2,\n 1,\n 2,\n 0,\n 0,\n 1,\n 0,\n 0,\n 2,\n 0,\n 0,\n 2,\n 1,\n 0,\n 0,\n 1,\n 0,\n 2,\n 1,\n 1,\n 0,\n 2,\n 1,\n 0,\n 1,\n 2,\n 0,\n 1,\n 0,\n 1,\n 2,\n 0,\n 0,\n 1,\n 1,\n 1,\n 2,\n 1,\n 2,\n 0,\n 0,\n 2,\n 1,\n 1,\n 1,\n 2,\n 2,\n 1,\n 1,\n 0,\n 0,\n 1,\n 1,\n 1,\n 0,\n 2,\n 2,\n 1,\n 1,\n 1,\n 2,\n 2,\n 2,\n 2,\n 0,\n 0,\n 1,\n 1,\n 2,\n 2,\n 1,\n 1,\n 1,\n 0,\n 1,\n 0,\n 0,\n 2,\n 1,\n 2,\n 1,\n 0,\n 2,\n 0,\n 1,\n 1,\n 2,\n 1,\n 2,\n 0,\n 0,\n 2,\n 1,\n 0,\n 0,\n 1,\n 1,\n 1,\n 0,\n 1,\n 1,\n 1,\n 1,\n 1,\n 1,\n 1,\n 2,\n 1,\n 2,\n 1,\n 2,\n 0,\n 2,\n 1,\n 2,\n 0,\n 1,\n 2,\n 2,\n 1,\n 1,\n 1,\n 1,\n 1,\n 2,\n 2,\n 1,\n 1,\n 1,\n 1,\n 2,\n 1,\n 2,\n 0,\n 2,\n 2,\n 1,\n 2,\n 1,\n 0,\n 2,\n 1,\n 0,\n 1,\n 1,\n 1,\n 2,\n 0,\n 1,\n 2,\n 1,\n 1,\n 0,\n 1,\n 1,\n 0,\n 0,\n 0,\n 2,\n 1,\n 1,\n 0,\n 1,\n 2,\n 2,\n 1,\n 0,\n 0,\n 1,\n 2,\n 1,\n 1,\n 1,\n 0,\n 0,\n 1,\n 1,\n 2,\n 1,\n 1,\n 2,\n 1,\n 2,\n 2,\n 1,\n 1,\n 1,\n 2,\n 2,\n 0,\n 2,\n 0,\n 1,\n 1,\n 2,\n 0,\n 1,\n 1,\n 0,\n 2,\n 1,\n 0,\n 1,\n 2,\n 0,\n 1,\n 2,\n 1,\n 2,\n 1,\n 1,\n 0,\n 1,\n 1,\n 1,\n 2,\n 2,\n 1,\n 0,\n 1,\n 0,\n 0,\n 1,\n 1,\n 1,\n 1,\n 2,\n 1,\n 1,\n 0,\n 0,\n 0,\n 1,\n 1,\n 1,\n 2,\n 0,\n 0,\n 0,\n 2,\n 1,\n 0,\n 1,\n 0,\n 2,\n 1,\n 2,\n 0,\n 2,\n 2,\n 1,\n 1,\n 2,\n 1,\n 1,\n 1,\n 2,\n 1,\n 1,\n 1,\n 2,\n 0,\n 1,\n 1,\n 1,\n 2,\n 0,\n 2,\n 2,\n 1,\n 2,\n 2,\n 1,\n 0,\n 1,\n 0,\n 2,\n 1,\n 1,\n 0,\n 1,\n 1,\n 1,\n 0,\n 2,\n 1,\n 1,\n 0,\n 2,\n 1,\n 1,\n 1,\n 1,\n 2,\n 2,\n 1,\n 2,\n 1,\n 1,\n 1,\n 1,\n 0,\n 1,\n 0,\n 1,\n 1,\n 2,\n 1,\n 2,\n 0,\n 1,\n 1,\n 1,\n 0,\n 0,\n 1,\n 1,\n 1,\n 2,\n 1,\n 1,\n 2,\n 1,\n 1,\n 2,\n 1,\n 0,\n 0,\n 0,\n 0,\n 1,\n 1,\n 1,\n 2,\n 2,\n 1,\n 2,\n 1,\n 0,\n 0,\n 2,\n 0,\n 0,\n 1,\n 1,\n 2,\n 1,\n 1,\n 1,\n 2,\n 1,\n 0,\n 1,\n 2,\n 0,\n 1,\n 2,\n 2,\n 1,\n 1,\n 0,\n 1,\n 1,\n 1,\n 0,\n 2,\n 1,\n 2,\n 2,\n 0,\n 0,\n 1,\n 2,\n 2,\n 1,\n 1,\n 0,\n 1,\n 1,\n 1,\n 0,\n 2,\n 2,\n 1,\n 2,\n 0,\n 2,\n 1,\n 0,\n 1,\n 1,\n 0,\n 1,\n 2,\n 1,\n 1,\n 2,\n 2,\n 1,\n 0,\n 1,\n 2,\n 1,\n 1,\n 1,\n 2,\n 0,\n 2,\n 0,\n 2,\n 1,\n 1,\n 0,\n 1,\n 2,\n 0,\n 1,\n 2,\n 1,\n 0,\n 1,\n 1,\n 1,\n 1,\n 1,\n 0,\n 0,\n 0,\n 1,\n 0,\n 1,\n 0,\n 0,\n 1,\n 0,\n 2,\n 0,\n 2,\n 0,\n 1,\n 0,\n 1,\n 2,\n 2,\n 2,\n 2,\n 1,\n 0,\n 1,\n 1,\n 1,\n 2,\n 0,\n 1,\n 2,\n 0,\n 1,\n 1,\n 1,\n 0,\n 0,\n 2,\n 0,\n 1,\n 0,\n 1,\n 2,\n 1,\n 1,\n 2,\n 1,\n 1,\n 0,\n 0,\n 1,\n 1,\n 0,\n 2,\n 1,\n 0,\n 1,\n 1,\n 1,\n 0,\n 2,\n 1,\n 0,\n 0,\n 1,\n 2,\n 1,\n 0,\n 2,\n 2,\n 0,\n 0,\n 2,\n 1,\n 1,\n 1,\n 1,\n 0,\n 0,\n 1,\n 1,\n 0,\n 1,\n 1,\n 0,\n 1,\n 2,\n 0,\n 1,\n 1,\n 0,\n 2,\n 0,\n 1,\n 1,\n 1,\n 2,\n 1,\n 1,\n 1,\n 1,\n 1,\n 1,\n 0,\n 1,\n 0,\n 1,\n 2,\n 2,\n ...]"
          },
          "metadata": {}
        }
      ]
    },
    {
      "metadata": {
        "trusted": true,
        "_uuid": "25e771f868e677150007e65f6bbf3befd4b08d4b"
      },
      "cell_type": "code",
      "source": "",
      "execution_count": null,
      "outputs": []
    },
    {
      "metadata": {
        "trusted": true,
        "_uuid": "cd5e9606771a0ba293f401526c4f50b90db628ca"
      },
      "cell_type": "code",
      "source": "",
      "execution_count": null,
      "outputs": []
    }
  ],
  "metadata": {
    "kernelspec": {
      "display_name": "Python 3",
      "language": "python",
      "name": "python3"
    },
    "language_info": {
      "name": "python",
      "version": "3.6.6",
      "mimetype": "text/x-python",
      "codemirror_mode": {
        "name": "ipython",
        "version": 3
      },
      "pygments_lexer": "ipython3",
      "nbconvert_exporter": "python",
      "file_extension": ".py"
    }
  },
  "nbformat": 4,
  "nbformat_minor": 1
}